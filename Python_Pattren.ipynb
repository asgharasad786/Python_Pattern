{
 "cells": [
  {
   "cell_type": "code",
   "execution_count": null,
   "id": "2d3d7a62-7529-48c9-8577-d8c0c9b5cc4a",
   "metadata": {},
   "outputs": [],
   "source": [
    "print(\"\\t\\t\\t\\t\\t ___________________________________________________________________\")\n",
    "print(\"\\t\\t\\t\\t\\t|                                 |                                 |\")\n",
    "print(\"\\t\\t\\t\\t\\t|                                 |                                 |\")\n",
    "print(\"\\t\\t\\t\\t\\t|                                 |                                 |\")\n",
    "print(\"\\t\\t\\t\\t\\t|                1st              |               2nd               |\")\n",
    "print(\"\\t\\t\\t\\t\\t|                                 |                                 |\")\n",
    "print(\"\\t\\t\\t\\t\\t|                                 |                                 |\")\n",
    "print(\"\\t\\t\\t\\t\\t|                                 |                                 |\")\n",
    "print(\"\\t\\t\\t\\t\\t|—————————————————————————————————|—————————————————————————————————|\")\n",
    "print(\"\\t\\t\\t\\t\\t|                                 |                                 |\")\n",
    "print(\"\\t\\t\\t\\t\\t|                                 |                                 |\")\n",
    "print(\"\\t\\t\\t\\t\\t|                                 |                                 |\")\n",
    "print(\"\\t\\t\\t\\t\\t|                3rd              |               4th               |\")\n",
    "print(\"\\t\\t\\t\\t\\t|                                 |                                 |\")\n",
    "print(\"\\t\\t\\t\\t\\t|                                 |                                 |\")\n",
    "print(\"\\t\\t\\t\\t\\t|_________________________________|_________________________________|\")"
   ]
  },
  {
   "cell_type": "code",
   "execution_count": null,
   "id": "b2b76606-ea82-46db-bce3-dbfa202dedb4",
   "metadata": {},
   "outputs": [],
   "source": [
    "print(\"\\t\\t\\t\\t\\t __________________________________________________________________\")\n",
    "print(\"\\t\\t\\t\\t\\t|                                                                  |\")\n",
    "print(\"\\t\\t\\t\\t\\t|                                                                  |\")\n",
    "print(\"\\t\\t\\t\\t\\t|                                                                  |\")\n",
    "print(\"\\t\\t\\t\\t\\t|                                                                  |\")\n",
    "print(\"\\t\\t\\t\\t\\t|                                                                  |\")\n",
    "print(\"\\t\\t\\t\\t\\t|                                                                  |\")\n",
    "print(\"\\t\\t\\t\\t\\t|                                                                  |\")\n",
    "print(\"\\t\\t\\t\\t\\t|                                                                  |\")\n",
    "print(\"\\t\\t\\t\\t\\t|                                                                  |\")\n",
    "print(\"\\t\\t\\t\\t\\t|                                                                  |\")\n",
    "print(\"\\t\\t\\t\\t\\t|                                                                  |\")\n",
    "print(\"\\t\\t\\t\\t\\t|                                                                  |\")\n",
    "print(\"\\t\\t\\t\\t\\t|__________________________________________________________________|\")"
   ]
  },
  {
   "cell_type": "code",
   "execution_count": null,
   "id": "092ce387-ad25-4edb-98b6-bf457771e897",
   "metadata": {},
   "outputs": [],
   "source": [
    "print(\"\\t\\t\\t\\t\\t _______________________________________________________________\")\n",
    "print(\"\\t\\t\\t\\t\\t|\\t\\t\\t\\t|\\t\\t\\t\\t|\")\n",
    "print(\"\\t\\t\\t\\t\\t|\\t\\t\\t\\t|\\t\\t\\t\\t|\")\n",
    "print(\"\\t\\t\\t\\t\\t|\\t\\t\\t\\t|\\t\\t\\t\\t|\")\n",
    "print(\"\\t\\t\\t\\t\\t|\\t\\t\\t\\t|\\t\\t\\t\\t|\")\n",
    "print(\"\\t\\t\\t\\t\\t|\\t\\t\\t\\t|\\t\\t\\t\\t|\")\n",
    "print(\"\\t\\t\\t\\t\\t|\\t\\t\\t\\t|\\t\\t\\t\\t|\")\n",
    "print(\"\\t\\t\\t\\t\\t|\\t\\t\\t\\t|\\t\\t\\t\\t|\")\n",
    "print(\"\\t\\t\\t\\t\\t|\\t\\t\\t\\t|\\t\\t\\t\\t|\")\n",
    "print(\"\\t\\t\\t\\t\\t|\\t\\t\\t\\t|\\t\\t\\t\\t|\")\n",
    "print(\"\\t\\t\\t\\t\\t|\\t\\t\\t\\t|\\t\\t\\t\\t|\")\n",
    "print(\"\\t\\t\\t\\t\\t|———————————————————————————————|———————————————————————————————|\")\n",
    "print(\"\\t\\t\\t\\t\\t|\\t\\t\\t\\t|\\t\\t\\t\\t|\")\n",
    "print(\"\\t\\t\\t\\t\\t|\\t\\t\\t\\t|\\t\\t\\t\\t|\")\n",
    "print(\"\\t\\t\\t\\t\\t|\\t\\t\\t\\t|\\t\\t\\t\\t|\")\n",
    "print(\"\\t\\t\\t\\t\\t|\\t\\t\\t\\t|\\t\\t\\t\\t|\")\n",
    "print(\"\\t\\t\\t\\t\\t|\\t\\t\\t\\t|\\t\\t\\t\\t|\")\n",
    "print(\"\\t\\t\\t\\t\\t|\\t\\t\\t\\t|\\t\\t\\t\\t|\")\n",
    "print(\"\\t\\t\\t\\t\\t|\\t\\t\\t\\t|\\t\\t\\t\\t|\")\n",
    "print(\"\\t\\t\\t\\t\\t|\\t\\t\\t\\t|\\t\\t\\t\\t|\")\n",
    "print(\"\\t\\t\\t\\t\\t|\\t\\t\\t\\t|\\t\\t\\t\\t|\")\n",
    "print(\"\\t\\t\\t\\t\\t|\\t\\t\\t\\t|\\t\\t\\t\\t|\")\n",
    "print(\"\\t\\t\\t\\t\\t|_______________________________|_______________________________|\")"
   ]
  },
  {
   "cell_type": "code",
   "execution_count": null,
   "id": "87467f1e-2173-41ff-a321-9032596991e3",
   "metadata": {},
   "outputs": [],
   "source": [
    "print(\" \\t\\t\\t\\t\\t\\t\\t     /\\\\\")\n",
    "print(\" \\t\\t\\t\\t\\t\\t\\t    /  \\\\\")\n",
    "print(\" \\t\\t\\t\\t\\t\\t\\t   /    \\\\\")\n",
    "print(\" \\t\\t\\t\\t\\t\\t\\t  /      \\\\\")\n",
    "print(\" \\t\\t\\t\\t\\t\\t\\t /        \\\\\")\n",
    "print(\" \\t\\t\\t\\t\\t\\t\\t/__________\\\\\")"
   ]
  },
  {
   "cell_type": "code",
   "execution_count": null,
   "id": "eb880754-2fe4-478c-8b4a-a9a893476f9b",
   "metadata": {},
   "outputs": [],
   "source": [
    "print(\" \\t\\t\\t\\t\\t\\t\\t     /\\\\\")\n",
    "print(\" \\t\\t\\t\\t\\t\\t\\t    /  \\\\\")\n",
    "print(\" \\t\\t\\t\\t\\t\\t\\t   /    \\\\\")\n",
    "print(\" \\t\\t\\t\\t\\t\\t\\t  / 0  0 \\\\\")\n",
    "print(\" \\t\\t\\t\\t\\t\\t\\t  \\\\      /\")\n",
    "print(\" \\t\\t\\t\\t\\t\\t\\t   \\\\    /\")\n",
    "print(\" \\t\\t\\t\\t\\t\\t\\t    \\\\  /\")\n",
    "print(\" \\t\\t\\t\\t\\t\\t\\t     \\\\/\")\n",
    "print(\" \\t\\t\\t\\t\\t\\t\\t     /\\\\\")\n",
    "print(\" \\t\\t\\t\\t\\t\\t\\t    /__\\\\\")"
   ]
  },
  {
   "cell_type": "code",
   "execution_count": null,
   "id": "c8d0c0b9-5710-411e-88e0-43523b69cf5a",
   "metadata": {},
   "outputs": [],
   "source": [
    "print(\" \\t\\t\\t\\t\\t\\t\\t     ^\")\n",
    "print(\" \\t\\t\\t\\t\\t\\t\\t   /   \\\\\")\n",
    "print(\" \\t\\t\\t\\t\\t\\t\\t  /     \\\\\")\n",
    "print(\" \\t\\t\\t\\t\\t\\t\\t  \\\\     /\")\n",
    "print(\" \\t\\t\\t\\t\\t\\t\\t   \\\\   /\")\n",
    "print(\" \\t\\t\\t\\t\\t\\t\\t    \\\\ /\") \n",
    "print(\" \\t\\t\\t\\t\\t\\t\\t     v \") "
   ]
  },
  {
   "cell_type": "code",
   "execution_count": null,
   "id": "10cee69f-af62-4795-8ffd-e2d5c794638c",
   "metadata": {},
   "outputs": [],
   "source": [
    "print(\" \\t\\t\\t\\t\\t\\t\\t |\\\\\")\n",
    "print(\" \\t\\t\\t\\t\\t\\t\\t | \\\\\")\n",
    "print(\" \\t\\t\\t\\t\\t\\t\\t |  \\\\\")\n",
    "print(\" \\t\\t\\t\\t\\t\\t\\t |   \\\\\")\n",
    "print(\" \\t\\t\\t\\t\\t\\t\\t |    \\\\\")\n",
    "print(\" \\t\\t\\t\\t\\t\\t\\t |_____\\\\\")"
   ]
  },
  {
   "cell_type": "code",
   "execution_count": null,
   "id": "c0e25360-04d0-4b8a-a8ba-f8cd4a21294d",
   "metadata": {},
   "outputs": [],
   "source": [
    "print(\" \\t\\t\\t\\t\\t\\t\\t      * * * \")\n",
    "print(\" \\t\\t\\t\\t\\t\\t\\t   *         *\")\n",
    "print(\" \\t\\t\\t\\t\\t\\t\\t  *           *\")\n",
    "print(\" \\t\\t\\t\\t\\t\\t\\t  *           *\")\n",
    "print(\" \\t\\t\\t\\t\\t\\t\\t   *         *\")\n",
    "print(\" \\t\\t\\t\\t\\t\\t\\t      * * *\")"
   ]
  },
  {
   "cell_type": "code",
   "execution_count": null,
   "id": "5cefa3a5-fbee-4a50-b38a-25ccec88c84e",
   "metadata": {},
   "outputs": [],
   "source": [
    "print(\" \\t\\t\\t\\t\\t\\t\\t       __________\")\n",
    "print(\" \\t\\t\\t\\t\\t\\t\\t      /          \\\\\")\n",
    "print(\" \\t\\t\\t\\t\\t\\t\\t     /            \\\\\")\n",
    "print(\" \\t\\t\\t\\t\\t\\t\\t    /              \\\\\")\n",
    "print(\" \\t\\t\\t\\t\\t\\t\\t    \\\\              /\")\n",
    "print(\" \\t\\t\\t\\t\\t\\t\\t     \\\\            /\")\n",
    "print(\" \\t\\t\\t\\t\\t\\t\\t      \\\\__________/\")"
   ]
  },
  {
   "cell_type": "code",
   "execution_count": null,
   "id": "2f41c3d9-c157-49d9-b2e9-5d790ca68e43",
   "metadata": {},
   "outputs": [],
   "source": [
    "print(\" \\t\\t\\t\\t\\t\\t                               ()\")\n",
    "print(\" \\t\\t\\t\\t\\t\\t                        ?    (*(^)*    ?\")\n",
    "print(\" \\t\\t\\t\\t\\t\\t                    , ?   ?(*(*(^)*)*)?\")\n",
    "print(\" \\t\\t\\t\\t\\t\\t                       (((((((*|*)))))))\")\n",
    "print(\" \\t\\t\\t\\t\\t\\t                  ?   ?(((((((~* *~)))))))?\")\n",
    "print(\" \\t\\t\\t\\t\\t\\t                   ? ? ?((((* * ?*? * *))))?\")\n",
    "print(\" \\t\\t\\t\\t\\t\\t                     V  ?((** * * * **))?\")\n",
    "print(\" \\t\\t\\t\\t\\t\\t                     \\>_\\>_((* *** *))_<\")\n",
    "print(\" \\t\\t\\t\\t\\t\\t                          \\  (~ ***~)   _?\")\n",
    "print(\" \\t\\t\\t\\t\\t\\t                         ?? V \\   /  ? |\")\n",
    "print(\" \\t\\t\\t\\t\\t\\t                            >\\ | |  ? _\")\n",
    "print(\" \\t\\t\\t\\t\\t\\t                          ?   \\| | /_/\")\n",
    "print(\" \\t\\t\\t\\t\\t\\t                            \\  | |/ \")\n",
    "print(\" \\t\\t\\t\\t\\t\\t                             >-| | \")\n",
    "print(\" \\t\\t\\t\\t\\t\\t                               | | \")\n",
    "print(\" \\t\\t\\t\\t\\t\\t                              /   \\ \")\n",
    "print(\" \\t\\t\\t\\t\\t\\t                             /_____\\ \")"
   ]
  },
  {
   "cell_type": "code",
   "execution_count": null,
   "id": "78403d6f-ef01-4516-8212-5d2d56047528",
   "metadata": {},
   "outputs": [],
   "source": [
    "print(\" \\t\\t\\t\\t\\t\\t                        ( (^ (^ |^) ^ ) \")\n",
    "print(\" \\t\\t\\t\\t\\t\\t                      (^ (^ (^ |^) ^ ) ) )\")\n",
    "print(\" \\t\\t\\t\\t\\t\\t                   (( (  ? (  (*(^)*  ? ?) ))\")\n",
    "print(\" \\t\\t\\t\\t\\t\\t                  (  , ? ( ?(*( (^) )*)? | \\))\")  \n",
    "print(\" \\t\\t\\t\\t\\t\\t                 ( (  ?( ( ( ((*|*) ) ) ) ? )))\")\n",
    "print(\" \\t\\t\\t\\t\\t\\t                 (?   ?( ( ( (~* *~) ) ) )? )?)\")\n",
    "print(\" \\t\\t\\t\\t\\t\\t                 ( ? ? ?( ((* * ?*? * *) ) ? )\")\n",
    "print(\" \\t\\t\\t\\t\\t\\t                  (  V  ?( ** * * * **) ? );)\")\n",
    "print(\" \\t\\t\\t\\t\\t\\t                   ( \\>_ >_ (* *** *))_< ) )\")\n",
    "print(\" \\t\\t\\t\\t\\t\\t                          ( (~***~) )  \")\n",
    "print(\" \\t\\t\\t\\t\\t\\t                             \\   / \")\n",
    "print(\" \\t\\t\\t\\t\\t\\t                             (\\ \\)\")\n",
    "print(\" \\t\\t\\t\\t\\t\\t                              / / \")\n",
    "print(\" \\t\\t\\t\\t\\t\\t                              \\ \\\\\")\n",
    "print(\" \\t\\t\\t\\t\\t\\t                               \\ \\\\\")\n",
    "print(\" \\t\\t\\t\\t\\t\\t                               / / \")\n",
    "print(\" \\t\\t\\t\\t\\t\\t                             // \\ \\\\ \")\n",
    "print(\" \\t\\t\\t\\t\\t\\t                           /|//|\\\\\\//\\\\ \")\n",
    "print(\" \\t\\t\\t\\t\\t\\t                         /!\\.^|\\/\\|!!\\!\\\\\")"
   ]
  },
  {
   "cell_type": "code",
   "execution_count": null,
   "id": "243c532c-6c44-4da0-9b71-1fe32a987790",
   "metadata": {},
   "outputs": [],
   "source": [
    "print(\" \\t\\t\\t\\t\\t\\t\\t              _ * * * __\")\n",
    "print(\" \\t\\t\\t\\t\\t\\t\\t            *\\_/  \\__/  \\_*\")\n",
    "print(\" \\t\\t\\t\\t\\t\\t\\t          *_/  \\__/  \\__/  \\*\")\n",
    "print(\" \\t\\t\\t\\t\\t\\t\\t         */ \\__/  \\__/  \\__/_*\")\n",
    "print(\" \\t\\t\\t\\t\\t\\t\\t        * \\_/  \\__/  \\__/  \\_*\")\n",
    "print(\" \\t\\t\\t\\t\\t\\t\\t        *_/ \\__/  \\__/  \\__/ *\")\n",
    "print(\" \\t\\t\\t\\t\\t\\t\\t         *\\_/  \\__/  \\__/  \\*\")\n",
    "print(\" \\t\\t\\t\\t\\t\\t\\t          *_\\__/  \\__/  \\__*\")\n",
    "print(\" \\t\\t\\t\\t\\t\\t\\t            * _\\__/__\\__/*\")\n",
    "print(\" \\t\\t\\t\\t\\t\\t\\t                * * *\")"
   ]
  },
  {
   "cell_type": "code",
   "execution_count": null,
   "id": "c3df4d4a-a5e6-4960-af71-7c0e8572ee4c",
   "metadata": {},
   "outputs": [],
   "source": [
    "print(\" \\t\\t\\t\\t\\t\\t\\t       \")\n",
    "print(\" \\t\\t\\t\\t\\t\\t\\t       ________________\")\n",
    "print(\" \\t\\t\\t\\t\\t\\t\\t      | /      |       \\ \")\n",
    "print(\" \\t\\t\\t\\t\\t\\t\\t    (O|/ =     | =    (>\\_______ \")\n",
    "print(\" \\t\\t\\t\\t\\t\\t\\t      |        |         |     0)\")\n",
    "print(\" \\t\\t\\t\\t\\t\\t\\t      |___---__|_________|---___|\")\n",
    "print(\" \\t\\t\\t\\t\\t\\t\\t          (0)             (0)\")\n",
    "print(\" \\t\\t\\t\\t\\t\\t\\t         \")\n",
    "print(\" \\t\\t\\t\\t\\t\\t\\t         \")\n",
    "print(\" \\t\\t\\t\\t\\t\\t\\t         \")"
   ]
  }
 ],
 "metadata": {
  "kernelspec": {
   "display_name": "Python 3 (ipykernel)",
   "language": "python",
   "name": "python3"
  },
  "language_info": {
   "codemirror_mode": {
    "name": "ipython",
    "version": 3
   },
   "file_extension": ".py",
   "mimetype": "text/x-python",
   "name": "python",
   "nbconvert_exporter": "python",
   "pygments_lexer": "ipython3",
   "version": "3.11.5"
  }
 },
 "nbformat": 4,
 "nbformat_minor": 5
}
